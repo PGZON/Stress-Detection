{
 "cells": [
  {
   "cell_type": "markdown",
   "id": "8eda4b63",
   "metadata": {},
   "source": [
    "# Stress Detection using Convolutional Neural Networks (CNN)\n",
    "\n",
    "This notebook demonstrates how to build and train a CNN model to detect stress levels from facial expressions. We'll use TensorFlow/Keras to classify emotions and map them to stress levels.\n",
    "\n",
    "## Overview\n",
    "- **Dataset**: Facial emotion images (7 classes: happy, neutral, surprised, angry, fearful, sad, disgusted)\n",
    "- **Model**: CNN with convolutional and pooling layers\n",
    "- **Output**: Stress level (Normal/Medium/High) and stress score (0-1)"
   ]
  },
  {
   "cell_type": "markdown",
   "id": "9f4b6008",
   "metadata": {},
   "source": [
    "## 1. Install and Import Libraries\n",
    "\n",
    "First, we need to install TensorFlow if it's not already available, then import all necessary libraries for building and training our CNN model."
   ]
  },
  {
   "cell_type": "code",
   "execution_count": 6,
   "id": "ddb604f1",
   "metadata": {},
   "outputs": [],
   "source": [
    "# Install TensorFlow (if not installed already)\n",
    "# !pip install tensorflow\n",
    "\n",
    "import tensorflow as tf\n",
    "from tensorflow.keras import layers, models\n",
    "from tensorflow.keras.utils import image_dataset_from_directory # pyright: ignore[reportMissingImports]\n",
    "import numpy as np\n",
    "import matplotlib.pyplot as plt\n",
    "import os"
   ]
  },
  {
   "cell_type": "code",
   "execution_count": 50,
   "id": "6ae4a741",
   "metadata": {},
   "outputs": [
    {
     "name": "stdout",
     "output_type": "stream",
     "text": [
      "TensorFlow: 2.20.0\n",
      "NumPy: 2.3.3\n",
      "Matplotlib: 3.10.6\n"
     ]
    }
   ],
   "source": [
    "\n",
    "print(\"TensorFlow:\", tf.__version__)\n",
    "print(\"NumPy:\", np.__version__)\n",
    "print(\"Matplotlib:\", matplotlib.__version__)\n"
   ]
  },
  {
   "cell_type": "markdown",
   "id": "366ae801",
   "metadata": {},
   "source": [
    "## 2. Check GPU Availability\n",
    "\n",
    "Before training, let's verify if TensorFlow can access a GPU. GPU acceleration significantly speeds up training for deep learning models."
   ]
  },
  {
   "cell_type": "markdown",
   "id": "6f1ce5a3",
   "metadata": {},
   "source": [
    "## 1. Install and Import Libraries\n",
    "\n",
    "First, we need to install TensorFlow if it's not already available, then import all necessary libraries for building and training our CNN model."
   ]
  },
  {
   "cell_type": "code",
   "execution_count": 8,
   "id": "2cb1ce4f",
   "metadata": {},
   "outputs": [
    {
     "name": "stdout",
     "output_type": "stream",
     "text": [
      "Num GPUs Available: 0\n"
     ]
    }
   ],
   "source": [
    "# Check if GPU is available\n",
    "print(\"Num GPUs Available:\", len(tf.config.list_physical_devices('GPU')))"
   ]
  },
  {
   "cell_type": "markdown",
   "id": "de5f4866",
   "metadata": {},
   "source": [
    "## 3. Load Dataset\n",
    "\n",
    "We load the training and testing datasets from the `data/train` and `data/test` directories. Each subdirectory represents an emotion class. The `image_dataset_from_directory` function automatically labels the images based on folder names."
   ]
  },
  {
   "cell_type": "code",
   "execution_count": 12,
   "id": "2ea56023",
   "metadata": {},
   "outputs": [
    {
     "name": "stdout",
     "output_type": "stream",
     "text": [
      "Found 28709 files belonging to 7 classes.\n",
      "Found 7178 files belonging to 7 classes.\n",
      "Found 7178 files belonging to 7 classes.\n",
      "Classes: ['angry', 'disgusted', 'fearful', 'happy', 'neutral', 'sad', 'surprised']\n",
      "Classes: ['angry', 'disgusted', 'fearful', 'happy', 'neutral', 'sad', 'surprised']\n"
     ]
    }
   ],
   "source": [
    "train_dir = \"../../data/train\"\n",
    "test_dir = \"../../data/test\"\n",
    "\n",
    "# Load dataset\n",
    "train_data = image_dataset_from_directory(\n",
    "    train_dir,\n",
    "    image_size=(64,64),\n",
    "    batch_size=32\n",
    ")\n",
    "test_data = image_dataset_from_directory(\n",
    "    test_dir,\n",
    "    image_size=(64,64),\n",
    "    batch_size=32\n",
    ")\n",
    "\n",
    "# Get class names (emotions)\n",
    "class_names = train_data.class_names\n",
    "print(\"Classes:\", class_names)"
   ]
  },
  {
   "cell_type": "markdown",
   "id": "0060c860",
   "metadata": {},
   "source": [
    "## 4. Preprocess Data\n",
    "\n",
    "Neural networks perform better with normalized data. We rescale pixel values from 0-255 to 0-1 range using a Rescaling layer applied to the dataset."
   ]
  },
  {
   "cell_type": "code",
   "execution_count": 13,
   "id": "39d7ff63",
   "metadata": {},
   "outputs": [],
   "source": [
    "# Normalize pixel values (0-255 → 0-1)\n",
    "normalization_layer = layers.Rescaling(1./255)\n",
    "train_data = train_data.map(lambda x, y: (normalization_layer(x), y))\n",
    "test_data = test_data.map(lambda x, y: (normalization_layer(x), y))"
   ]
  },
  {
   "cell_type": "markdown",
   "id": "0749f59c",
   "metadata": {},
   "source": [
    "## 5. Build CNN Model\n",
    "\n",
    "We construct a Convolutional Neural Network with:\n",
    "- 3 convolutional layers with increasing filters (32, 64, 128)\n",
    "- Max pooling after each conv layer to reduce spatial dimensions\n",
    "- Flatten layer to convert 2D features to 1D\n",
    "- Dense layers with dropout for regularization\n",
    "- Output layer with softmax for multi-class classification"
   ]
  },
  {
   "cell_type": "code",
   "execution_count": null,
   "id": "be06dafd",
   "metadata": {},
   "outputs": [
    {
     "name": "stderr",
     "output_type": "stream",
     "text": [
      "c:\\Stress-Detection\\.venv\\Lib\\site-packages\\keras\\src\\layers\\convolutional\\base_conv.py:113: UserWarning: Do not pass an `input_shape`/`input_dim` argument to a layer. When using Sequential models, prefer using an `Input(shape)` object as the first layer in the model instead.\n",
      "  super().__init__(activity_regularizer=activity_regularizer, **kwargs)\n"
     ]
    },
    {
     "data": {
      "text/html": [
       "<pre style=\"white-space:pre;overflow-x:auto;line-height:normal;font-family:Menlo,'DejaVu Sans Mono',consolas,'Courier New',monospace\"><span style=\"font-weight: bold\">Model: \"sequential\"</span>\n",
       "</pre>\n"
      ],
      "text/plain": [
       "\u001b[1mModel: \"sequential\"\u001b[0m\n"
      ]
     },
     "metadata": {},
     "output_type": "display_data"
    },
    {
     "data": {
      "text/html": [
       "<pre style=\"white-space:pre;overflow-x:auto;line-height:normal;font-family:Menlo,'DejaVu Sans Mono',consolas,'Courier New',monospace\">┏━━━━━━━━━━━━━━━━━━━━━━━━━━━━━━━━━┳━━━━━━━━━━━━━━━━━━━━━━━━┳━━━━━━━━━━━━━━━┓\n",
       "┃<span style=\"font-weight: bold\"> Layer (type)                    </span>┃<span style=\"font-weight: bold\"> Output Shape           </span>┃<span style=\"font-weight: bold\">       Param # </span>┃\n",
       "┡━━━━━━━━━━━━━━━━━━━━━━━━━━━━━━━━━╇━━━━━━━━━━━━━━━━━━━━━━━━╇━━━━━━━━━━━━━━━┩\n",
       "│ conv2d (<span style=\"color: #0087ff; text-decoration-color: #0087ff\">Conv2D</span>)                 │ (<span style=\"color: #00d7ff; text-decoration-color: #00d7ff\">None</span>, <span style=\"color: #00af00; text-decoration-color: #00af00\">62</span>, <span style=\"color: #00af00; text-decoration-color: #00af00\">62</span>, <span style=\"color: #00af00; text-decoration-color: #00af00\">32</span>)     │           <span style=\"color: #00af00; text-decoration-color: #00af00\">896</span> │\n",
       "├─────────────────────────────────┼────────────────────────┼───────────────┤\n",
       "│ max_pooling2d (<span style=\"color: #0087ff; text-decoration-color: #0087ff\">MaxPooling2D</span>)    │ (<span style=\"color: #00d7ff; text-decoration-color: #00d7ff\">None</span>, <span style=\"color: #00af00; text-decoration-color: #00af00\">31</span>, <span style=\"color: #00af00; text-decoration-color: #00af00\">31</span>, <span style=\"color: #00af00; text-decoration-color: #00af00\">32</span>)     │             <span style=\"color: #00af00; text-decoration-color: #00af00\">0</span> │\n",
       "├─────────────────────────────────┼────────────────────────┼───────────────┤\n",
       "│ conv2d_1 (<span style=\"color: #0087ff; text-decoration-color: #0087ff\">Conv2D</span>)               │ (<span style=\"color: #00d7ff; text-decoration-color: #00d7ff\">None</span>, <span style=\"color: #00af00; text-decoration-color: #00af00\">29</span>, <span style=\"color: #00af00; text-decoration-color: #00af00\">29</span>, <span style=\"color: #00af00; text-decoration-color: #00af00\">64</span>)     │        <span style=\"color: #00af00; text-decoration-color: #00af00\">18,496</span> │\n",
       "├─────────────────────────────────┼────────────────────────┼───────────────┤\n",
       "│ max_pooling2d_1 (<span style=\"color: #0087ff; text-decoration-color: #0087ff\">MaxPooling2D</span>)  │ (<span style=\"color: #00d7ff; text-decoration-color: #00d7ff\">None</span>, <span style=\"color: #00af00; text-decoration-color: #00af00\">14</span>, <span style=\"color: #00af00; text-decoration-color: #00af00\">14</span>, <span style=\"color: #00af00; text-decoration-color: #00af00\">64</span>)     │             <span style=\"color: #00af00; text-decoration-color: #00af00\">0</span> │\n",
       "├─────────────────────────────────┼────────────────────────┼───────────────┤\n",
       "│ conv2d_2 (<span style=\"color: #0087ff; text-decoration-color: #0087ff\">Conv2D</span>)               │ (<span style=\"color: #00d7ff; text-decoration-color: #00d7ff\">None</span>, <span style=\"color: #00af00; text-decoration-color: #00af00\">12</span>, <span style=\"color: #00af00; text-decoration-color: #00af00\">12</span>, <span style=\"color: #00af00; text-decoration-color: #00af00\">128</span>)    │        <span style=\"color: #00af00; text-decoration-color: #00af00\">73,856</span> │\n",
       "├─────────────────────────────────┼────────────────────────┼───────────────┤\n",
       "│ max_pooling2d_2 (<span style=\"color: #0087ff; text-decoration-color: #0087ff\">MaxPooling2D</span>)  │ (<span style=\"color: #00d7ff; text-decoration-color: #00d7ff\">None</span>, <span style=\"color: #00af00; text-decoration-color: #00af00\">6</span>, <span style=\"color: #00af00; text-decoration-color: #00af00\">6</span>, <span style=\"color: #00af00; text-decoration-color: #00af00\">128</span>)      │             <span style=\"color: #00af00; text-decoration-color: #00af00\">0</span> │\n",
       "├─────────────────────────────────┼────────────────────────┼───────────────┤\n",
       "│ flatten (<span style=\"color: #0087ff; text-decoration-color: #0087ff\">Flatten</span>)               │ (<span style=\"color: #00d7ff; text-decoration-color: #00d7ff\">None</span>, <span style=\"color: #00af00; text-decoration-color: #00af00\">4608</span>)           │             <span style=\"color: #00af00; text-decoration-color: #00af00\">0</span> │\n",
       "├─────────────────────────────────┼────────────────────────┼───────────────┤\n",
       "│ dense (<span style=\"color: #0087ff; text-decoration-color: #0087ff\">Dense</span>)                   │ (<span style=\"color: #00d7ff; text-decoration-color: #00d7ff\">None</span>, <span style=\"color: #00af00; text-decoration-color: #00af00\">128</span>)            │       <span style=\"color: #00af00; text-decoration-color: #00af00\">589,952</span> │\n",
       "├─────────────────────────────────┼────────────────────────┼───────────────┤\n",
       "│ dropout (<span style=\"color: #0087ff; text-decoration-color: #0087ff\">Dropout</span>)               │ (<span style=\"color: #00d7ff; text-decoration-color: #00d7ff\">None</span>, <span style=\"color: #00af00; text-decoration-color: #00af00\">128</span>)            │             <span style=\"color: #00af00; text-decoration-color: #00af00\">0</span> │\n",
       "├─────────────────────────────────┼────────────────────────┼───────────────┤\n",
       "│ dense_1 (<span style=\"color: #0087ff; text-decoration-color: #0087ff\">Dense</span>)                 │ (<span style=\"color: #00d7ff; text-decoration-color: #00d7ff\">None</span>, <span style=\"color: #00af00; text-decoration-color: #00af00\">7</span>)              │           <span style=\"color: #00af00; text-decoration-color: #00af00\">903</span> │\n",
       "└─────────────────────────────────┴────────────────────────┴───────────────┘\n",
       "</pre>\n"
      ],
      "text/plain": [
       "┏━━━━━━━━━━━━━━━━━━━━━━━━━━━━━━━━━┳━━━━━━━━━━━━━━━━━━━━━━━━┳━━━━━━━━━━━━━━━┓\n",
       "┃\u001b[1m \u001b[0m\u001b[1mLayer (type)                   \u001b[0m\u001b[1m \u001b[0m┃\u001b[1m \u001b[0m\u001b[1mOutput Shape          \u001b[0m\u001b[1m \u001b[0m┃\u001b[1m \u001b[0m\u001b[1m      Param #\u001b[0m\u001b[1m \u001b[0m┃\n",
       "┡━━━━━━━━━━━━━━━━━━━━━━━━━━━━━━━━━╇━━━━━━━━━━━━━━━━━━━━━━━━╇━━━━━━━━━━━━━━━┩\n",
       "│ conv2d (\u001b[38;5;33mConv2D\u001b[0m)                 │ (\u001b[38;5;45mNone\u001b[0m, \u001b[38;5;34m62\u001b[0m, \u001b[38;5;34m62\u001b[0m, \u001b[38;5;34m32\u001b[0m)     │           \u001b[38;5;34m896\u001b[0m │\n",
       "├─────────────────────────────────┼────────────────────────┼───────────────┤\n",
       "│ max_pooling2d (\u001b[38;5;33mMaxPooling2D\u001b[0m)    │ (\u001b[38;5;45mNone\u001b[0m, \u001b[38;5;34m31\u001b[0m, \u001b[38;5;34m31\u001b[0m, \u001b[38;5;34m32\u001b[0m)     │             \u001b[38;5;34m0\u001b[0m │\n",
       "├─────────────────────────────────┼────────────────────────┼───────────────┤\n",
       "│ conv2d_1 (\u001b[38;5;33mConv2D\u001b[0m)               │ (\u001b[38;5;45mNone\u001b[0m, \u001b[38;5;34m29\u001b[0m, \u001b[38;5;34m29\u001b[0m, \u001b[38;5;34m64\u001b[0m)     │        \u001b[38;5;34m18,496\u001b[0m │\n",
       "├─────────────────────────────────┼────────────────────────┼───────────────┤\n",
       "│ max_pooling2d_1 (\u001b[38;5;33mMaxPooling2D\u001b[0m)  │ (\u001b[38;5;45mNone\u001b[0m, \u001b[38;5;34m14\u001b[0m, \u001b[38;5;34m14\u001b[0m, \u001b[38;5;34m64\u001b[0m)     │             \u001b[38;5;34m0\u001b[0m │\n",
       "├─────────────────────────────────┼────────────────────────┼───────────────┤\n",
       "│ conv2d_2 (\u001b[38;5;33mConv2D\u001b[0m)               │ (\u001b[38;5;45mNone\u001b[0m, \u001b[38;5;34m12\u001b[0m, \u001b[38;5;34m12\u001b[0m, \u001b[38;5;34m128\u001b[0m)    │        \u001b[38;5;34m73,856\u001b[0m │\n",
       "├─────────────────────────────────┼────────────────────────┼───────────────┤\n",
       "│ max_pooling2d_2 (\u001b[38;5;33mMaxPooling2D\u001b[0m)  │ (\u001b[38;5;45mNone\u001b[0m, \u001b[38;5;34m6\u001b[0m, \u001b[38;5;34m6\u001b[0m, \u001b[38;5;34m128\u001b[0m)      │             \u001b[38;5;34m0\u001b[0m │\n",
       "├─────────────────────────────────┼────────────────────────┼───────────────┤\n",
       "│ flatten (\u001b[38;5;33mFlatten\u001b[0m)               │ (\u001b[38;5;45mNone\u001b[0m, \u001b[38;5;34m4608\u001b[0m)           │             \u001b[38;5;34m0\u001b[0m │\n",
       "├─────────────────────────────────┼────────────────────────┼───────────────┤\n",
       "│ dense (\u001b[38;5;33mDense\u001b[0m)                   │ (\u001b[38;5;45mNone\u001b[0m, \u001b[38;5;34m128\u001b[0m)            │       \u001b[38;5;34m589,952\u001b[0m │\n",
       "├─────────────────────────────────┼────────────────────────┼───────────────┤\n",
       "│ dropout (\u001b[38;5;33mDropout\u001b[0m)               │ (\u001b[38;5;45mNone\u001b[0m, \u001b[38;5;34m128\u001b[0m)            │             \u001b[38;5;34m0\u001b[0m │\n",
       "├─────────────────────────────────┼────────────────────────┼───────────────┤\n",
       "│ dense_1 (\u001b[38;5;33mDense\u001b[0m)                 │ (\u001b[38;5;45mNone\u001b[0m, \u001b[38;5;34m7\u001b[0m)              │           \u001b[38;5;34m903\u001b[0m │\n",
       "└─────────────────────────────────┴────────────────────────┴───────────────┘\n"
      ]
     },
     "metadata": {},
     "output_type": "display_data"
    },
    {
     "data": {
      "text/html": [
       "<pre style=\"white-space:pre;overflow-x:auto;line-height:normal;font-family:Menlo,'DejaVu Sans Mono',consolas,'Courier New',monospace\"><span style=\"font-weight: bold\"> Total params: </span><span style=\"color: #00af00; text-decoration-color: #00af00\">684,103</span> (2.61 MB)\n",
       "</pre>\n"
      ],
      "text/plain": [
       "\u001b[1m Total params: \u001b[0m\u001b[38;5;34m684,103\u001b[0m (2.61 MB)\n"
      ]
     },
     "metadata": {},
     "output_type": "display_data"
    },
    {
     "data": {
      "text/html": [
       "<pre style=\"white-space:pre;overflow-x:auto;line-height:normal;font-family:Menlo,'DejaVu Sans Mono',consolas,'Courier New',monospace\"><span style=\"font-weight: bold\"> Trainable params: </span><span style=\"color: #00af00; text-decoration-color: #00af00\">684,103</span> (2.61 MB)\n",
       "</pre>\n"
      ],
      "text/plain": [
       "\u001b[1m Trainable params: \u001b[0m\u001b[38;5;34m684,103\u001b[0m (2.61 MB)\n"
      ]
     },
     "metadata": {},
     "output_type": "display_data"
    },
    {
     "data": {
      "text/html": [
       "<pre style=\"white-space:pre;overflow-x:auto;line-height:normal;font-family:Menlo,'DejaVu Sans Mono',consolas,'Courier New',monospace\"><span style=\"font-weight: bold\"> Non-trainable params: </span><span style=\"color: #00af00; text-decoration-color: #00af00\">0</span> (0.00 B)\n",
       "</pre>\n"
      ],
      "text/plain": [
       "\u001b[1m Non-trainable params: \u001b[0m\u001b[38;5;34m0\u001b[0m (0.00 B)\n"
      ]
     },
     "metadata": {},
     "output_type": "display_data"
    }
   ],
   "source": [
    "model = models.Sequential([\n",
    "    layers.Conv2D(32, (3,3), activation='relu', input_shape=(64,64,3)),\n",
    "    layers.MaxPooling2D((2,2)),\n",
    "\n",
    "    layers.Conv2D(64, (3,3), activation='relu'),\n",
    "    layers.MaxPooling2D((2,2)),\n",
    "\n",
    "    layers.Conv2D(128, (3,3), activation='relu'),\n",
    "    layers.MaxPooling2D((2,2)),\n",
    "\n",
    "    layers.Flatten(),\n",
    "\n",
    "    layers.Dense(128, activation='relu', kernel_regularizer=tf.keras.regularizers.l2(0.001)),\n",
    "    layers.Dropout(0.5),  # increased dropout\n",
    "\n",
    "    layers.Dense(len(class_names), activation='softmax')\n",
    "])\n",
    "# model.summary()\n",
    "model.compile(\n",
    "    optimizer='adam',\n",
    "    loss='sparse_categorical_crossentropy',\n",
    "    metrics=['accuracy']\n",
    ")\n",
    "\n",
    "model.summary()"
   ]
  },
  {
   "cell_type": "markdown",
   "id": "ab5e163e",
   "metadata": {},
   "source": [
    "## 6. Train Model\n",
    "\n",
    "Train the CNN model using the training dataset with validation on the test set. We use 30 epochs, but you can adjust this based on convergence. The history object stores training metrics for analysis."
   ]
  },
  {
   "cell_type": "code",
   "execution_count": null,
   "id": "d16048cd",
   "metadata": {},
   "outputs": [
    {
     "name": "stdout",
     "output_type": "stream",
     "text": [
      "Epoch 1/30\n",
      "\u001b[1m898/898\u001b[0m \u001b[32m━━━━━━━━━━━━━━━━━━━━\u001b[0m\u001b[37m\u001b[0m \u001b[1m88s\u001b[0m 92ms/step - accuracy: 0.3333 - loss: 1.6621 - val_accuracy: 0.4264 - val_loss: 1.4843\n",
      "Epoch 2/30\n",
      "\u001b[1m898/898\u001b[0m \u001b[32m━━━━━━━━━━━━━━━━━━━━\u001b[0m\u001b[37m\u001b[0m \u001b[1m88s\u001b[0m 92ms/step - accuracy: 0.3333 - loss: 1.6621 - val_accuracy: 0.4264 - val_loss: 1.4843\n",
      "Epoch 2/30\n",
      "\u001b[1m898/898\u001b[0m \u001b[32m━━━━━━━━━━━━━━━━━━━━\u001b[0m\u001b[37m\u001b[0m \u001b[1m60s\u001b[0m 67ms/step - accuracy: 0.4558 - loss: 1.4164 - val_accuracy: 0.5015 - val_loss: 1.3292\n",
      "Epoch 3/30\n",
      "\u001b[1m898/898\u001b[0m \u001b[32m━━━━━━━━━━━━━━━━━━━━\u001b[0m\u001b[37m\u001b[0m \u001b[1m60s\u001b[0m 67ms/step - accuracy: 0.4558 - loss: 1.4164 - val_accuracy: 0.5015 - val_loss: 1.3292\n",
      "Epoch 3/30\n",
      "\u001b[1m898/898\u001b[0m \u001b[32m━━━━━━━━━━━━━━━━━━━━\u001b[0m\u001b[37m\u001b[0m \u001b[1m50s\u001b[0m 55ms/step - accuracy: 0.5082 - loss: 1.2978 - val_accuracy: 0.5163 - val_loss: 1.2536\n",
      "Epoch 4/30\n",
      "\u001b[1m898/898\u001b[0m \u001b[32m━━━━━━━━━━━━━━━━━━━━\u001b[0m\u001b[37m\u001b[0m \u001b[1m50s\u001b[0m 55ms/step - accuracy: 0.5082 - loss: 1.2978 - val_accuracy: 0.5163 - val_loss: 1.2536\n",
      "Epoch 4/30\n",
      "\u001b[1m898/898\u001b[0m \u001b[32m━━━━━━━━━━━━━━━━━━━━\u001b[0m\u001b[37m\u001b[0m \u001b[1m35s\u001b[0m 38ms/step - accuracy: 0.5354 - loss: 1.2167 - val_accuracy: 0.5390 - val_loss: 1.2210\n",
      "Epoch 5/30\n",
      "\u001b[1m898/898\u001b[0m \u001b[32m━━━━━━━━━━━━━━━━━━━━\u001b[0m\u001b[37m\u001b[0m \u001b[1m35s\u001b[0m 38ms/step - accuracy: 0.5354 - loss: 1.2167 - val_accuracy: 0.5390 - val_loss: 1.2210\n",
      "Epoch 5/30\n",
      "\u001b[1m898/898\u001b[0m \u001b[32m━━━━━━━━━━━━━━━━━━━━\u001b[0m\u001b[37m\u001b[0m \u001b[1m36s\u001b[0m 40ms/step - accuracy: 0.5627 - loss: 1.1478 - val_accuracy: 0.5489 - val_loss: 1.1937\n",
      "Epoch 6/30\n",
      "\u001b[1m898/898\u001b[0m \u001b[32m━━━━━━━━━━━━━━━━━━━━\u001b[0m\u001b[37m\u001b[0m \u001b[1m36s\u001b[0m 40ms/step - accuracy: 0.5627 - loss: 1.1478 - val_accuracy: 0.5489 - val_loss: 1.1937\n",
      "Epoch 6/30\n",
      "\u001b[1m898/898\u001b[0m \u001b[32m━━━━━━━━━━━━━━━━━━━━\u001b[0m\u001b[37m\u001b[0m \u001b[1m34s\u001b[0m 38ms/step - accuracy: 0.5884 - loss: 1.0797 - val_accuracy: 0.5481 - val_loss: 1.1971\n",
      "Epoch 7/30\n",
      "\u001b[1m898/898\u001b[0m \u001b[32m━━━━━━━━━━━━━━━━━━━━\u001b[0m\u001b[37m\u001b[0m \u001b[1m34s\u001b[0m 38ms/step - accuracy: 0.5884 - loss: 1.0797 - val_accuracy: 0.5481 - val_loss: 1.1971\n",
      "Epoch 7/30\n",
      "\u001b[1m898/898\u001b[0m \u001b[32m━━━━━━━━━━━━━━━━━━━━\u001b[0m\u001b[37m\u001b[0m \u001b[1m34s\u001b[0m 38ms/step - accuracy: 0.6162 - loss: 1.0163 - val_accuracy: 0.5411 - val_loss: 1.2318\n",
      "Epoch 8/30\n",
      "\u001b[1m898/898\u001b[0m \u001b[32m━━━━━━━━━━━━━━━━━━━━\u001b[0m\u001b[37m\u001b[0m \u001b[1m34s\u001b[0m 38ms/step - accuracy: 0.6162 - loss: 1.0163 - val_accuracy: 0.5411 - val_loss: 1.2318\n",
      "Epoch 8/30\n",
      "\u001b[1m898/898\u001b[0m \u001b[32m━━━━━━━━━━━━━━━━━━━━\u001b[0m\u001b[37m\u001b[0m \u001b[1m35s\u001b[0m 39ms/step - accuracy: 0.6328 - loss: 0.9536 - val_accuracy: 0.5421 - val_loss: 1.2693\n",
      "Epoch 9/30\n",
      "\u001b[1m898/898\u001b[0m \u001b[32m━━━━━━━━━━━━━━━━━━━━\u001b[0m\u001b[37m\u001b[0m \u001b[1m35s\u001b[0m 39ms/step - accuracy: 0.6328 - loss: 0.9536 - val_accuracy: 0.5421 - val_loss: 1.2693\n",
      "Epoch 9/30\n",
      "\u001b[1m898/898\u001b[0m \u001b[32m━━━━━━━━━━━━━━━━━━━━\u001b[0m\u001b[37m\u001b[0m \u001b[1m34s\u001b[0m 38ms/step - accuracy: 0.6559 - loss: 0.8957 - val_accuracy: 0.5496 - val_loss: 1.2932\n",
      "Epoch 10/30\n",
      "\u001b[1m898/898\u001b[0m \u001b[32m━━━━━━━━━━━━━━━━━━━━\u001b[0m\u001b[37m\u001b[0m \u001b[1m34s\u001b[0m 38ms/step - accuracy: 0.6559 - loss: 0.8957 - val_accuracy: 0.5496 - val_loss: 1.2932\n",
      "Epoch 10/30\n",
      "\u001b[1m898/898\u001b[0m \u001b[32m━━━━━━━━━━━━━━━━━━━━\u001b[0m\u001b[37m\u001b[0m \u001b[1m34s\u001b[0m 38ms/step - accuracy: 0.6802 - loss: 0.8370 - val_accuracy: 0.5428 - val_loss: 1.3471\n",
      "Epoch 11/30\n",
      "\u001b[1m898/898\u001b[0m \u001b[32m━━━━━━━━━━━━━━━━━━━━\u001b[0m\u001b[37m\u001b[0m \u001b[1m34s\u001b[0m 38ms/step - accuracy: 0.6802 - loss: 0.8370 - val_accuracy: 0.5428 - val_loss: 1.3471\n",
      "Epoch 11/30\n",
      "\u001b[1m898/898\u001b[0m \u001b[32m━━━━━━━━━━━━━━━━━━━━\u001b[0m\u001b[37m\u001b[0m \u001b[1m36s\u001b[0m 40ms/step - accuracy: 0.6976 - loss: 0.7836 - val_accuracy: 0.5507 - val_loss: 1.3908\n",
      "Epoch 12/30\n",
      "\u001b[1m898/898\u001b[0m \u001b[32m━━━━━━━━━━━━━━━━━━━━\u001b[0m\u001b[37m\u001b[0m \u001b[1m36s\u001b[0m 40ms/step - accuracy: 0.6976 - loss: 0.7836 - val_accuracy: 0.5507 - val_loss: 1.3908\n",
      "Epoch 12/30\n",
      "\u001b[1m898/898\u001b[0m \u001b[32m━━━━━━━━━━━━━━━━━━━━\u001b[0m\u001b[37m\u001b[0m \u001b[1m34s\u001b[0m 38ms/step - accuracy: 0.7152 - loss: 0.7342 - val_accuracy: 0.5424 - val_loss: 1.4237\n",
      "Epoch 13/30\n",
      "\u001b[1m898/898\u001b[0m \u001b[32m━━━━━━━━━━━━━━━━━━━━\u001b[0m\u001b[37m\u001b[0m \u001b[1m34s\u001b[0m 38ms/step - accuracy: 0.7152 - loss: 0.7342 - val_accuracy: 0.5424 - val_loss: 1.4237\n",
      "Epoch 13/30\n",
      "\u001b[1m898/898\u001b[0m \u001b[32m━━━━━━━━━━━━━━━━━━━━\u001b[0m\u001b[37m\u001b[0m \u001b[1m34s\u001b[0m 38ms/step - accuracy: 0.7310 - loss: 0.6922 - val_accuracy: 0.5485 - val_loss: 1.4654\n",
      "Epoch 14/30\n",
      "\u001b[1m898/898\u001b[0m \u001b[32m━━━━━━━━━━━━━━━━━━━━\u001b[0m\u001b[37m\u001b[0m \u001b[1m34s\u001b[0m 38ms/step - accuracy: 0.7310 - loss: 0.6922 - val_accuracy: 0.5485 - val_loss: 1.4654\n",
      "Epoch 14/30\n",
      "\u001b[1m898/898\u001b[0m \u001b[32m━━━━━━━━━━━━━━━━━━━━\u001b[0m\u001b[37m\u001b[0m \u001b[1m41s\u001b[0m 46ms/step - accuracy: 0.7464 - loss: 0.6491 - val_accuracy: 0.5476 - val_loss: 1.5429\n",
      "Epoch 15/30\n",
      "\u001b[1m898/898\u001b[0m \u001b[32m━━━━━━━━━━━━━━━━━━━━\u001b[0m\u001b[37m\u001b[0m \u001b[1m41s\u001b[0m 46ms/step - accuracy: 0.7464 - loss: 0.6491 - val_accuracy: 0.5476 - val_loss: 1.5429\n",
      "Epoch 15/30\n",
      "\u001b[1m898/898\u001b[0m \u001b[32m━━━━━━━━━━━━━━━━━━━━\u001b[0m\u001b[37m\u001b[0m \u001b[1m45s\u001b[0m 49ms/step - accuracy: 0.7584 - loss: 0.6167 - val_accuracy: 0.5471 - val_loss: 1.6405\n",
      "Epoch 16/30\n",
      "\u001b[1m898/898\u001b[0m \u001b[32m━━━━━━━━━━━━━━━━━━━━\u001b[0m\u001b[37m\u001b[0m \u001b[1m45s\u001b[0m 49ms/step - accuracy: 0.7584 - loss: 0.6167 - val_accuracy: 0.5471 - val_loss: 1.6405\n",
      "Epoch 16/30\n",
      "\u001b[1m898/898\u001b[0m \u001b[32m━━━━━━━━━━━━━━━━━━━━\u001b[0m\u001b[37m\u001b[0m \u001b[1m34s\u001b[0m 38ms/step - accuracy: 0.7706 - loss: 0.5866 - val_accuracy: 0.5454 - val_loss: 1.7013\n",
      "Epoch 17/30\n",
      "\u001b[1m898/898\u001b[0m \u001b[32m━━━━━━━━━━━━━━━━━━━━\u001b[0m\u001b[37m\u001b[0m \u001b[1m34s\u001b[0m 38ms/step - accuracy: 0.7706 - loss: 0.5866 - val_accuracy: 0.5454 - val_loss: 1.7013\n",
      "Epoch 17/30\n",
      "\u001b[1m898/898\u001b[0m \u001b[32m━━━━━━━━━━━━━━━━━━━━\u001b[0m\u001b[37m\u001b[0m \u001b[1m34s\u001b[0m 38ms/step - accuracy: 0.7764 - loss: 0.5620 - val_accuracy: 0.5404 - val_loss: 1.7908\n",
      "Epoch 18/30\n",
      "\u001b[1m898/898\u001b[0m \u001b[32m━━━━━━━━━━━━━━━━━━━━\u001b[0m\u001b[37m\u001b[0m \u001b[1m34s\u001b[0m 38ms/step - accuracy: 0.7764 - loss: 0.5620 - val_accuracy: 0.5404 - val_loss: 1.7908\n",
      "Epoch 18/30\n",
      "\u001b[1m898/898\u001b[0m \u001b[32m━━━━━━━━━━━━━━━━━━━━\u001b[0m\u001b[37m\u001b[0m \u001b[1m35s\u001b[0m 39ms/step - accuracy: 0.7890 - loss: 0.5363 - val_accuracy: 0.5442 - val_loss: 1.8529\n",
      "Epoch 19/30\n",
      "\u001b[1m898/898\u001b[0m \u001b[32m━━━━━━━━━━━━━━━━━━━━\u001b[0m\u001b[37m\u001b[0m \u001b[1m35s\u001b[0m 39ms/step - accuracy: 0.7890 - loss: 0.5363 - val_accuracy: 0.5442 - val_loss: 1.8529\n",
      "Epoch 19/30\n",
      "\u001b[1m898/898\u001b[0m \u001b[32m━━━━━━━━━━━━━━━━━━━━\u001b[0m\u001b[37m\u001b[0m \u001b[1m36s\u001b[0m 40ms/step - accuracy: 0.7955 - loss: 0.5197 - val_accuracy: 0.5435 - val_loss: 1.8638\n",
      "Epoch 20/30\n",
      "\u001b[1m898/898\u001b[0m \u001b[32m━━━━━━━━━━━━━━━━━━━━\u001b[0m\u001b[37m\u001b[0m \u001b[1m36s\u001b[0m 40ms/step - accuracy: 0.7955 - loss: 0.5197 - val_accuracy: 0.5435 - val_loss: 1.8638\n",
      "Epoch 20/30\n",
      "\u001b[1m898/898\u001b[0m \u001b[32m━━━━━━━━━━━━━━━━━━━━\u001b[0m\u001b[37m\u001b[0m \u001b[1m34s\u001b[0m 38ms/step - accuracy: 0.8029 - loss: 0.5023 - val_accuracy: 0.5508 - val_loss: 1.9947\n",
      "Epoch 21/30\n",
      "\u001b[1m898/898\u001b[0m \u001b[32m━━━━━━━━━━━━━━━━━━━━\u001b[0m\u001b[37m\u001b[0m \u001b[1m34s\u001b[0m 38ms/step - accuracy: 0.8029 - loss: 0.5023 - val_accuracy: 0.5508 - val_loss: 1.9947\n",
      "Epoch 21/30\n",
      "\u001b[1m898/898\u001b[0m \u001b[32m━━━━━━━━━━━━━━━━━━━━\u001b[0m\u001b[37m\u001b[0m \u001b[1m35s\u001b[0m 39ms/step - accuracy: 0.8094 - loss: 0.4739 - val_accuracy: 0.5449 - val_loss: 2.1012\n",
      "Epoch 22/30\n",
      "\u001b[1m898/898\u001b[0m \u001b[32m━━━━━━━━━━━━━━━━━━━━\u001b[0m\u001b[37m\u001b[0m \u001b[1m35s\u001b[0m 39ms/step - accuracy: 0.8094 - loss: 0.4739 - val_accuracy: 0.5449 - val_loss: 2.1012\n",
      "Epoch 22/30\n",
      "\u001b[1m898/898\u001b[0m \u001b[32m━━━━━━━━━━━━━━━━━━━━\u001b[0m\u001b[37m\u001b[0m \u001b[1m41s\u001b[0m 39ms/step - accuracy: 0.8141 - loss: 0.4666 - val_accuracy: 0.5437 - val_loss: 2.0350\n",
      "Epoch 23/30\n",
      "\u001b[1m898/898\u001b[0m \u001b[32m━━━━━━━━━━━━━━━━━━━━\u001b[0m\u001b[37m\u001b[0m \u001b[1m41s\u001b[0m 39ms/step - accuracy: 0.8141 - loss: 0.4666 - val_accuracy: 0.5437 - val_loss: 2.0350\n",
      "Epoch 23/30\n",
      "\u001b[1m898/898\u001b[0m \u001b[32m━━━━━━━━━━━━━━━━━━━━\u001b[0m\u001b[37m\u001b[0m \u001b[1m34s\u001b[0m 38ms/step - accuracy: 0.8206 - loss: 0.4492 - val_accuracy: 0.5454 - val_loss: 2.1235\n",
      "Epoch 24/30\n",
      "\u001b[1m898/898\u001b[0m \u001b[32m━━━━━━━━━━━━━━━━━━━━\u001b[0m\u001b[37m\u001b[0m \u001b[1m34s\u001b[0m 38ms/step - accuracy: 0.8206 - loss: 0.4492 - val_accuracy: 0.5454 - val_loss: 2.1235\n",
      "Epoch 24/30\n",
      "\u001b[1m898/898\u001b[0m \u001b[32m━━━━━━━━━━━━━━━━━━━━\u001b[0m\u001b[37m\u001b[0m \u001b[1m34s\u001b[0m 38ms/step - accuracy: 0.8270 - loss: 0.4386 - val_accuracy: 0.5479 - val_loss: 2.2599\n",
      "Epoch 25/30\n",
      "\u001b[1m898/898\u001b[0m \u001b[32m━━━━━━━━━━━━━━━━━━━━\u001b[0m\u001b[37m\u001b[0m \u001b[1m34s\u001b[0m 38ms/step - accuracy: 0.8270 - loss: 0.4386 - val_accuracy: 0.5479 - val_loss: 2.2599\n",
      "Epoch 25/30\n",
      "\u001b[1m898/898\u001b[0m \u001b[32m━━━━━━━━━━━━━━━━━━━━\u001b[0m\u001b[37m\u001b[0m \u001b[1m36s\u001b[0m 40ms/step - accuracy: 0.8335 - loss: 0.4217 - val_accuracy: 0.5472 - val_loss: 2.3518\n",
      "Epoch 26/30\n",
      "\u001b[1m898/898\u001b[0m \u001b[32m━━━━━━━━━━━━━━━━━━━━\u001b[0m\u001b[37m\u001b[0m \u001b[1m36s\u001b[0m 40ms/step - accuracy: 0.8335 - loss: 0.4217 - val_accuracy: 0.5472 - val_loss: 2.3518\n",
      "Epoch 26/30\n",
      "\u001b[1m898/898\u001b[0m \u001b[32m━━━━━━━━━━━━━━━━━━━━\u001b[0m\u001b[37m\u001b[0m \u001b[1m37s\u001b[0m 41ms/step - accuracy: 0.8309 - loss: 0.4275 - val_accuracy: 0.5497 - val_loss: 2.3448\n",
      "Epoch 27/30\n",
      "\u001b[1m898/898\u001b[0m \u001b[32m━━━━━━━━━━━━━━━━━━━━\u001b[0m\u001b[37m\u001b[0m \u001b[1m37s\u001b[0m 41ms/step - accuracy: 0.8309 - loss: 0.4275 - val_accuracy: 0.5497 - val_loss: 2.3448\n",
      "Epoch 27/30\n",
      "\u001b[1m898/898\u001b[0m \u001b[32m━━━━━━━━━━━━━━━━━━━━\u001b[0m\u001b[37m\u001b[0m \u001b[1m32s\u001b[0m 36ms/step - accuracy: 0.8373 - loss: 0.4073 - val_accuracy: 0.5525 - val_loss: 2.5109\n",
      "Epoch 28/30\n",
      "\u001b[1m898/898\u001b[0m \u001b[32m━━━━━━━━━━━━━━━━━━━━\u001b[0m\u001b[37m\u001b[0m \u001b[1m32s\u001b[0m 36ms/step - accuracy: 0.8373 - loss: 0.4073 - val_accuracy: 0.5525 - val_loss: 2.5109\n",
      "Epoch 28/30\n",
      "\u001b[1m898/898\u001b[0m \u001b[32m━━━━━━━━━━━━━━━━━━━━\u001b[0m\u001b[37m\u001b[0m \u001b[1m31s\u001b[0m 34ms/step - accuracy: 0.8417 - loss: 0.4039 - val_accuracy: 0.5469 - val_loss: 2.4939\n",
      "Epoch 29/30\n",
      "\u001b[1m898/898\u001b[0m \u001b[32m━━━━━━━━━━━━━━━━━━━━\u001b[0m\u001b[37m\u001b[0m \u001b[1m31s\u001b[0m 34ms/step - accuracy: 0.8417 - loss: 0.4039 - val_accuracy: 0.5469 - val_loss: 2.4939\n",
      "Epoch 29/30\n",
      "\u001b[1m898/898\u001b[0m \u001b[32m━━━━━━━━━━━━━━━━━━━━\u001b[0m\u001b[37m\u001b[0m \u001b[1m30s\u001b[0m 33ms/step - accuracy: 0.8470 - loss: 0.3832 - val_accuracy: 0.5499 - val_loss: 2.5744\n",
      "Epoch 30/30\n",
      "\u001b[1m898/898\u001b[0m \u001b[32m━━━━━━━━━━━━━━━━━━━━\u001b[0m\u001b[37m\u001b[0m \u001b[1m30s\u001b[0m 33ms/step - accuracy: 0.8470 - loss: 0.3832 - val_accuracy: 0.5499 - val_loss: 2.5744\n",
      "Epoch 30/30\n",
      "\u001b[1m898/898\u001b[0m \u001b[32m━━━━━━━━━━━━━━━━━━━━\u001b[0m\u001b[37m\u001b[0m \u001b[1m29s\u001b[0m 32ms/step - accuracy: 0.8514 - loss: 0.3772 - val_accuracy: 0.5387 - val_loss: 2.7104\n",
      "\u001b[1m898/898\u001b[0m \u001b[32m━━━━━━━━━━━━━━━━━━━━\u001b[0m\u001b[37m\u001b[0m \u001b[1m29s\u001b[0m 32ms/step - accuracy: 0.8514 - loss: 0.3772 - val_accuracy: 0.5387 - val_loss: 2.7104\n"
     ]
    }
   ],
   "source": [
    "from tensorflow.keras.callbacks import EarlyStopping, ReduceLROnPlateau\n",
    "\n",
    "early_stop = EarlyStopping(monitor='val_loss', patience=5, restore_best_weights=True)\n",
    "lr_schedule = ReduceLROnPlateau(monitor='val_loss', factor=0.2, patience=3)\n",
    "\n",
    "history = model.fit(\n",
    "    train_data,\n",
    "    validation_data=test_data,\n",
    "    epochs=40,\n",
    "    callbacks=[early_stop, lr_schedule]\n",
    ")\n"
   ]
  },
  {
   "cell_type": "markdown",
   "id": "d1ed07ea",
   "metadata": {},
   "source": [
    "## 7. Plot Training Results\n",
    "\n",
    "Visualize the training progress by plotting accuracy curves for both training and validation sets. This helps identify overfitting (if validation accuracy plateaus while training accuracy increases)."
   ]
  },
  {
   "cell_type": "code",
   "execution_count": 16,
   "id": "4ccf70bf",
   "metadata": {},
   "outputs": [
    {
     "data": {
      "image/png": "[encoded data removed]",
      "text/plain": [
       "<Figure size 640x480 with 1 Axes>"
      ]
     },
     "metadata": {},
     "output_type": "display_data"
    }
   ],
   "source": [
    "plt.plot(history.history['accuracy'], label='train acc')\n",
    "plt.plot(history.history['val_accuracy'], label='val acc')\n",
    "plt.legend()\n",
    "plt.show()"
   ]
  },
  {
   "cell_type": "markdown",
   "id": "6b6380f4",
   "metadata": {},
   "source": [
    "## 7.5. Additional Model Evaluation\n",
    "\n",
    "Let's evaluate the model performance with confusion matrix, classification report, and additional visualizations."
   ]
  },
  {
   "cell_type": "code",
   "execution_count": 42,
   "id": "70aebdd0",
   "metadata": {},
   "outputs": [
    {
     "name": "stdout",
     "output_type": "stream",
     "text": [
      "Classification Report:\n",
      "              precision    recall  f1-score   support\n",
      "\n",
      "       angry       0.48      0.39      0.43       958\n",
      "   disgusted       0.56      0.33      0.42       111\n",
      "     fearful       0.38      0.36      0.37      1024\n",
      "       happy       0.75      0.74      0.74      1774\n",
      "     neutral       0.45      0.57      0.50      1233\n",
      "         sad       0.41      0.38      0.39      1247\n",
      "   surprised       0.69      0.72      0.70       831\n",
      "\n",
      "    accuracy                           0.54      7178\n",
      "   macro avg       0.53      0.50      0.51      7178\n",
      "weighted avg       0.54      0.54      0.54      7178\n",
      "\n",
      "\n",
      "Final Test Accuracy: 0.5387\n"
     ]
    },
    {
     "data": {
      "image/png": "[encoded data removed]",
      "text/plain": [
       "<Figure size 1000x800 with 2 Axes>"
      ]
     },
     "metadata": {},
     "output_type": "display_data"
    }
   ],
   "source": [
    "from sklearn.metrics import confusion_matrix, classification_report\n",
    "import seaborn as sns\n",
    "\n",
    "# Get predictions on test set\n",
    "y_true = []\n",
    "y_pred = []\n",
    "\n",
    "for images, labels in test_data:\n",
    "    predictions = model.predict(images, verbose=0)\n",
    "    y_true.extend(labels.numpy())\n",
    "    y_pred.extend(np.argmax(predictions, axis=1))\n",
    "\n",
    "# Convert to numpy arrays\n",
    "y_true = np.array(y_true)\n",
    "y_pred = np.array(y_pred)\n",
    "\n",
    "# Print classification report\n",
    "print(\"Classification Report:\")\n",
    "print(classification_report(y_true, y_pred, target_names=class_names))\n",
    "\n",
    "# Calculate final accuracy\n",
    "final_accuracy = np.mean(y_true == y_pred)\n",
    "print(f\"\\nFinal Test Accuracy: {final_accuracy:.4f}\")\n",
    "\n",
    "# Confusion Matrix\n",
    "cm = confusion_matrix(y_true, y_pred)\n",
    "\n",
    "# Plot confusion matrix\n",
    "plt.figure(figsize=(10, 8))\n",
    "sns.heatmap(cm, annot=True, fmt='d', cmap='Blues',\n",
    "            xticklabels=class_names, yticklabels=class_names)\n",
    "plt.title('Confusion Matrix')\n",
    "plt.xlabel('Predicted')\n",
    "plt.ylabel('True')\n",
    "plt.show()"
   ]
  },
  {
   "cell_type": "markdown",
   "id": "99ac0039",
   "metadata": {},
   "source": [
    "## 8. Emotion → Stress Mapping\n",
    "\n",
    "Define a mapping from detected emotions to stress levels and base stress scores. This creates a psychological model where certain emotions indicate higher stress levels."
   ]
  },
  {
   "cell_type": "code",
   "execution_count": 17,
   "id": "0b2b5fb4",
   "metadata": {},
   "outputs": [],
   "source": [
    "# Define mapping\n",
    "emotion_to_stress = {\n",
    "    \"happy\": (\"Normal\", 0.2),\n",
    "    \"neutral\": (\"Normal\", 0.3),\n",
    "    \"surprised\": (\"Medium\", 0.55),\n",
    "    \"angry\": (\"High\", 0.8),\n",
    "    \"fearful\": (\"High\", 0.85),\n",
    "    \"sad\": (\"High\", 0.75),\n",
    "    \"disgusted\": (\"High\", 0.9),\n",
    "}"
   ]
  },
  {
   "cell_type": "markdown",
   "id": "6d155778",
   "metadata": {},
   "source": [
    "## 9. Prediction Function\n",
    "\n",
    "Create a function that takes an image path, preprocesses it, makes a prediction using the trained model, and maps the result to stress level and score. The stress score is dynamically calculated by scaling the base score with prediction confidence."
   ]
  },
  {
   "cell_type": "code",
   "execution_count": 43,
   "id": "39489f01",
   "metadata": {},
   "outputs": [],
   "source": [
    "from tensorflow.keras.utils import load_img, img_to_array\n",
    "\n",
    "def predict_stress(img_path):\n",
    "    # Load and preprocess image\n",
    "    img = load_img(img_path, target_size=(64,64))\n",
    "    img_array = img_to_array(img)\n",
    "    img_array = np.expand_dims(img_array, axis=0) / 255.0\n",
    "\n",
    "    # Predict emotion\n",
    "    prediction = model.predict(img_array)\n",
    "    predicted_class = class_names[np.argmax(prediction)]\n",
    "    confidence = np.max(prediction)\n",
    "\n",
    "    # Map to stress level + score\n",
    "    stress_level, base_score = emotion_to_stress[predicted_class]\n",
    "    \n",
    "    # Dynamic stress score: base_score scaled by confidence\n",
    "    stress_score = round(base_score * confidence, 2)\n",
    "\n",
    "    print(f\"Emotion: {predicted_class} ({confidence*100:.2f}% confident)\")\n",
    "    print(f\"Stress Level: {stress_level}\")\n",
    "    print(f\"Stress Score: {stress_score}\")"
   ]
  },
  {
   "cell_type": "markdown",
   "id": "9e9c6260",
   "metadata": {},
   "source": [
    "## 10. Test Prediction\n",
    "\n",
    "Test the prediction function with a sample image from the test dataset. This demonstrates the complete pipeline from image input to stress assessment output."
   ]
  },
  {
   "cell_type": "code",
   "execution_count": null,
   "id": "7826e427",
   "metadata": {},
   "outputs": [
    {
     "name": "stdout",
     "output_type": "stream",
     "text": [
      "\u001b[1m1/1\u001b[0m \u001b[32m━━━━━━━━━━━━━━━━━━━━\u001b[0m\u001b[37m\u001b[0m \u001b[1m0s\u001b[0m 59ms/step\n",
      "\u001b[1m1/1\u001b[0m \u001b[32m━━━━━━━━━━━━━━━━━━━━\u001b[0m\u001b[37m\u001b[0m \u001b[1m0s\u001b[0m 59ms/step\n",
      "Emotion: fearful (98.39% confident)\n",
      "Stress Level: High\n",
      "Stress Score: 0.8399999737739563\n",
      "Emotion: fearful (98.39% confident)\n",
      "Stress Level: High\n",
      "Stress Score: 0.8399999737739563\n"
     ]
    }
   ],
   "source": [
    "# Test with a sample image\n",
    "predict_stress(\"../../data/test/disgusted/im55.png\")"
   ]
  },
  {
   "cell_type": "markdown",
   "id": "f0b2f44a",
   "metadata": {},
   "source": [
    "## 11. Model Accuracy and Stress Score Scatter Plot\n",
    "\n",
    "Print the final model accuracy and create a scatter plot showing predicted stress scores vs. true stress levels for the test dataset."
   ]
  },
  {
   "cell_type": "code",
   "execution_count": 48,
   "id": "a6646a0f",
   "metadata": {},
   "outputs": [
    {
     "name": "stdout",
     "output_type": "stream",
     "text": [
      "Final Test Accuracy: 0.5387\n"
     ]
    },
    {
     "data": {
      "image/png": "[encoded data removed]",
      "text/plain": [
       "<Figure size 1000x600 with 2 Axes>"
      ]
     },
     "metadata": {},
     "output_type": "display_data"
    }
   ],
   "source": [
    "# Print final test accuracy\n",
    "print(f\"Final Test Accuracy: {final_accuracy:.4f}\")\n",
    "\n",
    "# Get stress scores for all test predictions\n",
    "stress_scores = []\n",
    "true_stress_levels = []\n",
    "\n",
    "for images, labels in test_data:\n",
    "    predictions = model.predict(images, verbose=0)\n",
    "    for i, pred in enumerate(predictions):\n",
    "        predicted_class = class_names[np.argmax(pred)]\n",
    "        confidence = np.max(pred)\n",
    "        stress_level, base_score = emotion_to_stress[predicted_class]\n",
    "        stress_score = round(base_score * confidence, 2)\n",
    "        stress_scores.append(stress_score)\n",
    "\n",
    "        # Map true label to stress level\n",
    "        true_class = class_names[labels[i].numpy()]\n",
    "        true_stress_level, _ = emotion_to_stress[true_class]\n",
    "        true_stress_levels.append(true_stress_level)\n",
    "\n",
    "# Convert stress levels to numeric for plotting\n",
    "stress_level_map = {\"Normal\": 0, \"Medium\": 1, \"High\": 2}\n",
    "numeric_true_levels = [stress_level_map[level] for level in true_stress_levels]\n",
    "\n",
    "# Scatter plot: Stress Score vs True Stress Level\n",
    "plt.figure(figsize=(10, 6))\n",
    "plt.scatter(numeric_true_levels, stress_scores, alpha=0.6, c=numeric_true_levels, cmap='viridis')\n",
    "plt.xlabel('True Stress Level (0=Normal, 1=Medium, 2=High)')\n",
    "plt.ylabel('Predicted Stress Score')\n",
    "plt.title('Scatter Plot: Predicted Stress Scores vs True Stress Levels')\n",
    "plt.colorbar(label='True Stress Level')\n",
    "plt.grid(True)\n",
    "plt.show()"
   ]
  },
  {
   "cell_type": "markdown",
   "id": "dd34ef87",
   "metadata": {},
   "source": [
    "## 12. Save Model for Deployment\n",
    "\n",
    "Save the trained model to disk so it can be used by the executable file."
   ]
  },
  {
   "cell_type": "code",
   "execution_count": 27,
   "id": "b230c7d0",
   "metadata": {},
   "outputs": [
    {
     "name": "stderr",
     "output_type": "stream",
     "text": [
      "WARNING:absl:You are saving your model as an HDF5 file via `model.save()` or `keras.saving.save_model(model)`. This file format is considered legacy. We recommend using instead the native Keras format, e.g. `model.save('my_model.keras')` or `keras.saving.save_model(model, 'my_model.keras')`. \n"
     ]
    },
    {
     "name": "stdout",
     "output_type": "stream",
     "text": [
      "✅ Model saved successfully to: stress_cnn_model.h5\n",
      "✅ Model file exists: stress_cnn_model.h5 (8260864 bytes)\n"
     ]
    }
   ],
   "source": [
    "# Save the trained model\n",
    "model_save_path = \"stress_cnn_model.h5\"\n",
    "model.save(model_save_path)\n",
    "print(f\"✅ Model saved successfully to: {model_save_path}\")\n",
    "\n",
    "# Verify the model was saved\n",
    "import os\n",
    "if os.path.exists(model_save_path):\n",
    "    print(f\"✅ Model file exists: {model_save_path} ({os.path.getsize(model_save_path)} bytes)\")\n",
    "else:\n",
    "    print(\"❌ Model file not found!\")"
   ]
  },
  {
   "cell_type": "markdown",
   "id": "79e0e69d",
   "metadata": {},
   "source": [
    "## 13. Create Executable File\n",
    "\n",
    "Run this cell to create the executable Python script for stress detection."
   ]
  },
  {
   "cell_type": "code",
   "execution_count": 28,
   "id": "d8b8b185",
   "metadata": {},
   "outputs": [
    {
     "name": "stdout",
     "output_type": "stream",
     "text": [
      "✅ Executable file created: stress_detector.py\n",
      "\n",
      "📖 USAGE INSTRUCTIONS:\n",
      "==================================================\n",
      "1. Single image prediction:\n",
      "   python stress_detector.py path/to/image.jpg\n",
      "\n",
      "2. Directory prediction:\n",
      "   python stress_detector.py path/to/images/ --output results.csv\n",
      "\n",
      "3. Custom model path:\n",
      "   python stress_detector.py image.jpg --model custom_model.h5\n",
      "\n",
      "4. Quiet mode:\n",
      "   python stress_detector.py image.jpg --quiet\n",
      "\n",
      "📋 REQUIREMENTS:\n",
      "- Python 3.7+\n",
      "- TensorFlow/Keras\n",
      "- NumPy\n",
      "- Pillow (PIL)\n",
      "\n",
      "🎯 FEATURES:\n",
      "- Automatic image preprocessing (64x64, normalization)\n",
      "- Emotion classification (7 classes)\n",
      "- Stress level mapping (Normal/Medium/High)\n",
      "- Dynamic stress scoring\n",
      "- Batch processing for directories\n",
      "- CSV output for bulk analysis\n"
     ]
    }
   ],
   "source": [
    "# The executable file 'stress_detector.py' has been created in the same directory\n",
    "# It includes the complete data pipeline and can be used independently\n",
    "\n",
    "print(\"✅ Executable file created: stress_detector.py\")\n",
    "print(\"\\n📖 USAGE INSTRUCTIONS:\")\n",
    "print(\"=\"*50)\n",
    "print(\"1. Single image prediction:\")\n",
    "print(\"   python stress_detector.py path/to/image.jpg\")\n",
    "print()\n",
    "print(\"2. Directory prediction:\")\n",
    "print(\"   python stress_detector.py path/to/images/ --output results.csv\")\n",
    "print()\n",
    "print(\"3. Custom model path:\")\n",
    "print(\"   python stress_detector.py image.jpg --model custom_model.h5\")\n",
    "print()\n",
    "print(\"4. Quiet mode:\")\n",
    "print(\"   python stress_detector.py image.jpg --quiet\")\n",
    "print()\n",
    "print(\"📋 REQUIREMENTS:\")\n",
    "print(\"- Python 3.7+\")\n",
    "print(\"- TensorFlow/Keras\")\n",
    "print(\"- NumPy\")\n",
    "print(\"- Pillow (PIL)\")\n",
    "print()\n",
    "print(\"🎯 FEATURES:\")\n",
    "print(\"- Automatic image preprocessing (64x64, normalization)\")\n",
    "print(\"- Emotion classification (7 classes)\")\n",
    "print(\"- Stress level mapping (Normal/Medium/High)\")\n",
    "print(\"- Dynamic stress scoring\")\n",
    "print(\"- Batch processing for directories\")\n",
    "print(\"- CSV output for bulk analysis\")"
   ]
  },
  {
   "cell_type": "markdown",
   "id": "46af73f9",
   "metadata": {},
   "source": [
    "## 13. Save Model for Deployment\n",
    "\n",
    "Save the trained model to disk so it can be used by the executable file and real-time detector."
   ]
  },
  {
   "cell_type": "code",
   "execution_count": null,
   "id": "ad82e6a9",
   "metadata": {},
   "outputs": [],
   "source": [
    "# Save the trained model\n",
    "model_save_path = 'stress_cnn_model.h5'\n",
    "model.save(model_save_path)\n",
    "print(f\"✅ Model saved to {model_save_path}\")\n",
    "\n",
    "# Verify the model can be loaded\n",
    "from tensorflow.keras.models import load_model\n",
    "loaded_model = load_model(model_save_path)\n",
    "print(\"✅ Model successfully loaded and verified\")\n",
    "\n",
    "# Test prediction with loaded model\n",
    "test_img_path = \"../../data/test/angry/im0.png\"\n",
    "if os.path.exists(test_img_path):\n",
    "    result = predict_stress(test_img_path)\n",
    "    print(f\"✅ Test prediction successful: {result}\")\n",
    "else:\n",
    "    print(\"⚠️ Test image not found, but model should work with the executable\")"
   ]
  },
  {
   "cell_type": "markdown",
   "id": "34bee136",
   "metadata": {},
   "source": [
    "## 14. Real-time Stress Detection Usage\n",
    "\n",
    "Now you can use the executable for real-time stress detection:\n",
    "\n",
    "### Real-time Webcam Detection:\n",
    "```bash\n",
    "python stress_detector.py --realtime\n",
    "```\n",
    "\n",
    "### Controls:\n",
    "- **'q'**: Quit the application\n",
    "- **'s'**: Pause/resume stress detection\n",
    "- **High stress detection**: Triggers 10-second sleep period with red alert overlay\n",
    "\n",
    "### Single Image Analysis:\n",
    "```bash\n",
    "python stress_detector.py path/to/image.jpg\n",
    "```\n",
    "\n",
    "### Batch Processing:\n",
    "```bash\n",
    "python stress_detector.py /path/to/images/ --output results.csv\n",
    "```\n",
    "\n",
    "### Requirements:\n",
    "Make sure you have OpenCV installed:\n",
    "```bash\n",
    "pip install opencv-python\n",
    "```\n",
    "\n",
    "The real-time detector will:\n",
    "1. Access your webcam\n",
    "2. Detect faces in real-time\n",
    "3. Analyze facial expressions for stress levels\n",
    "4. Display results with colored bounding boxes\n",
    "5. Sleep for 10 seconds when high stress is detected\n",
    "6. Resume monitoring after the sleep period"
   ]
  }
 ],
 "metadata": {
  "kernelspec": {
   "display_name": ".venv",
   "language": "python",
   "name": "python3"
  },
  "language_info": {
   "codemirror_mode": {
    "name": "ipython",
    "version": 3
   },
   "file_extension": ".py",
   "mimetype": "text/x-python",
   "name": "python",
   "nbconvert_exporter": "python",
   "pygments_lexer": "ipython3",
   "version": "3.11.9"
  }
 },
 "nbformat": 4,
 "nbformat_minor": 5
}
